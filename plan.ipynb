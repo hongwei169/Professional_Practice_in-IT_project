{
 "cells": [
  {
   "attachments": {},
   "cell_type": "markdown",
   "metadata": {},
   "source": [
    "<h1>Project Scope and Objectives</h1>\n",
    "\n",
    "<h5> Develop a Web-Fitness App project that will allow students choosing, doing, adding and deleting workouts.</h5>\n",
    "\n",
    "\n"
   ]
  },
  {
   "attachments": {},
   "cell_type": "markdown",
   "metadata": {},
   "source": [
    "<h3>Descritpion</h3>\n",
    "<h5><p>The web-fitness app is going to be designed to provide an apportunity for students and non-students maintenaing their health in great conditions.\n",
    "The web app will allow user selecting workouts of their choices to exercise, adding some new workouts with their own details, added workouts will be saved and be displayed on the list of workouts. User will be able to delete any workouts that they do not need. User will have the possibility to update the details of chosen workouts that are already listed. The web app will be accessed using various platforms, such as laptops, tablets and smartphone. The web app is going to be designed to work on different browsers such as Google Chrome, Mozilla FireForx, Edge or Safari.</p>\n",
    "</h5>"
   ]
  },
  {
   "attachments": {},
   "cell_type": "markdown",
   "metadata": {},
   "source": [
    "<h3>Work Breakdown and planning</h3>\n",
    "\n",
    "<div>\n",
    "<li>Project Initiation and Planning</li>\n",
    "<li>Back-end development</li>\n",
    "<li>Front-end development</li>\n",
    "<li>Integration and testing</li>\n",
    "<li>Deployment and lauch</li>\n",
    "\n",
    "</div>"
   ]
  },
  {
   "attachments": {},
   "cell_type": "markdown",
   "metadata": {},
   "source": [
    "<h3>Architetcure of Web App</h3>\n",
    "<div>\n",
    "<p>\n",
    "<li>The technology stack we used in our project is MERN stacks. This framework consists of MongoDB, ExpressJS, ReactJS, and NodeJS.\n",
    "<li>Back-end development: Server-side  will include component of the application that will be responsible for processing user request and generating reponses. It will be built using programming languages such as Python and Java. it will also include the application logic, data storage and security features.</li></p>\n",
    "<li>Front-end development: The client-side will be built using HTML, CSS, JavaScript, React. it includes the layout, design and functionality of the application</li>\n",
    "<li>Database: Database will help the application to store the data used by the application.</li>\n",
    "<li>Integration and testing: Selenium, Postman</li>\n",
    "<li>Deployment and lauch: AWS</li>\n",
    "\n",
    "</div>"
   ]
  },
  {
   "attachments": {},
   "cell_type": "markdown",
   "metadata": {},
   "source": [
    "<h3>Risk Management Plan</h3>\n",
    "<div>\n",
    "<li>Identify and prioritize risks : Identify potential risks associated with the activity, including internal and external risks.</li>\n",
    "<li>Develop contigency plans for high-priority risks</li>\n",
    "<li>Regularly review and update risk management plan</li>\n",
    "<li>Risk Assessment: Evaluate and impact each risk</li>\n",
    "<li>Risk Mitigation Strategies: Develop strategies to avoid, transfer, reduce or accept each identified risk.</li>\n",
    "\n",
    "</div>"
   ]
  },
  {
   "attachments": {},
   "cell_type": "markdown",
   "metadata": {},
   "source": [
    "<h3>Communication Plan and tools</h3>\n",
    "<div>\n",
    "<li>Weekly team meetings</li>\n",
    "<li>Day-to-day communication</li>\n",
    "<li>Microsoft Teams</li>\n",
    "<li>Email</li>\n",
    "<li>Whatsapp</li>\n",
    "</div>"
   ]
  },
  {
   "attachments": {},
   "cell_type": "markdown",
   "metadata": {},
   "source": [
    "<h3>Github Link for Project</h3>\n",
    "\n",
    "[Click here to open link](https://github.com/hongwei169/Professional_Practice_in-IT_project)."
   ]
  }
 ],
 "metadata": {
  "kernelspec": {
   "display_name": "base",
   "language": "python",
   "name": "python3"
  },
  "language_info": {
   "codemirror_mode": {
    "name": "ipython",
    "version": 3
   },
   "file_extension": ".py",
   "mimetype": "text/x-python",
   "name": "python",
   "nbconvert_exporter": "python",
   "pygments_lexer": "ipython3",
   "version": "3.9.13"
  },
  "orig_nbformat": 4,
  "vscode": {
   "interpreter": {
    "hash": "0ce1ed0d6e10e38ef44b8b92e0b0e6c8f0995f62b666e2140b3b6f4e161618b3"
   }
  }
 },
 "nbformat": 4,
 "nbformat_minor": 2
}
